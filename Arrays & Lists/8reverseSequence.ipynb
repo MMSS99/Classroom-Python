{
 "cells": [
  {
   "cell_type": "code",
   "execution_count": null,
   "metadata": {},
   "outputs": [],
   "source": [
    "def reverse_seq(n):\n",
    "    array = []\n",
    "    for x in range(n, 0, -1):\n",
    "        array.append(x)\n",
    "        #print (array)\n",
    "    return array"
   ]
  },
  {
   "cell_type": "markdown",
   "metadata": {},
   "source": [
    "https://www.codewars.com/kata/5a00e05cc374cb34d100000d"
   ]
  }
 ],
 "metadata": {
  "language_info": {
   "name": "python"
  }
 },
 "nbformat": 4,
 "nbformat_minor": 2
}
