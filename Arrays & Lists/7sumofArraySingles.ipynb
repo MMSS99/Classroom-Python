{
 "cells": [
  {
   "cell_type": "code",
   "execution_count": null,
   "metadata": {},
   "outputs": [],
   "source": [
    "def repeats(arr):\n",
    "    return sum([letter for letter in arr if arr.count(letter)==1])"
   ]
  },
  {
   "cell_type": "code",
   "execution_count": null,
   "metadata": {},
   "outputs": [],
   "source": [
    "def repeats(arr):\n",
    "    return sum([i for i in arr if arr.count(i)%2 != 0])"
   ]
  },
  {
   "cell_type": "code",
   "execution_count": null,
   "metadata": {},
   "outputs": [],
   "source": [
    "def repeats(arr):\n",
    "    suma = 0\n",
    "    for i in arr:\n",
    "        if arr.count(i)%2 != 0:\n",
    "            suma += i\n",
    "    return suma"
   ]
  },
  {
   "cell_type": "markdown",
   "metadata": {},
   "source": [
    "https://www.codewars.com/kata/59f11118a5e129e591000134"
   ]
  }
 ],
 "metadata": {
  "language_info": {
   "name": "python"
  }
 },
 "nbformat": 4,
 "nbformat_minor": 2
}
