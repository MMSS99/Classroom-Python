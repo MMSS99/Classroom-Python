{
 "cells": [
  {
   "cell_type": "code",
   "execution_count": null,
   "metadata": {},
   "outputs": [],
   "source": [
    "def make_readable(seconds):\n",
    "    horas = 0\n",
    "    minutos = 0\n",
    "    \n",
    "    while seconds > 59:\n",
    "        if seconds >= 3600:\n",
    "            horas = seconds//3600\n",
    "            seconds = seconds%3600\n",
    "            continue\n",
    "        elif seconds >= 60:\n",
    "            minutos = seconds//60\n",
    "            seconds = seconds%60\n",
    "            continue\n",
    "            \n",
    "    horas = str(horas)\n",
    "    minutos = str(minutos)\n",
    "    seconds = str(seconds)\n",
    "    \n",
    "    if len(horas) == 1:\n",
    "        horas = '0' + str(horas)\n",
    "    \n",
    "        \n",
    "    if len(minutos) == 1:\n",
    "        minutos = '0' + str(minutos)\n",
    "    \n",
    "        \n",
    "    if len(seconds) == 1:\n",
    "        seconds = '0' + str(seconds)\n",
    "    \n",
    "    return horas+':'+minutos+':'+seconds"
   ]
  },
  {
   "cell_type": "markdown",
   "metadata": {},
   "source": [
    "https://www.codewars.com/kata/52685f7382004e774f0001f7/python"
   ]
  }
 ],
 "metadata": {
  "language_info": {
   "name": "python"
  }
 },
 "nbformat": 4,
 "nbformat_minor": 2
}
