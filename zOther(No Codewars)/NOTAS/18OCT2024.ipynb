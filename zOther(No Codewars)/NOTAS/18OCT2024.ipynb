{
 "cells": [
  {
   "cell_type": "markdown",
   "metadata": {},
   "source": [
    "### **VOCABULARIO ALEATORIO DE LA CLASE**\n",
    "**D.D.D.** == *Domain Driven Design*, debes de conocer el vocabulario entorno al proyecto que estás haciendo. (En una discoteca, \"entrada\", \"consumición\"; en un partido de baloncesto, \"robo\", \"drible\").\n",
    "\n",
    "**T.D.D.** == *Test Driven Developement*, desarrollo dirigido por casos test. \n",
    "\n",
    "> Si en T.D.D. un programa falla, (como por ejemplo assert 3 > 4), saltará un error que rompa el programa, a través de cual podrás dilucidar qué parte de tu código está fallando. Llamaremos a este error **DEFECTO**.\n",
    "\n",
    "**G.I.G.O** == *Garbage In, Garbage Down*, basura dentro, basura fuera. ¿Exponer dudas en dailies?"
   ]
  },
  {
   "cell_type": "code",
   "execution_count": null,
   "metadata": {},
   "outputs": [
    {
     "data": {
      "text/plain": [
       "Traceback (most recent call last):\n",
       "  File \"c:\\Users\\a24manuelmss\\.vscode\\extensions\\ms-python.python-2024.16.1-win32-x64\\python_files\\python_server.py\", line 130, in exec_user_input\n",
       "    retval = callable_(user_input, user_globals)\n",
       "             ^^^^^^^^^^^^^^^^^^^^^^^^^^^^^^^^^^^\n",
       "  File \"<string>\", line 9, in <module>\n",
       "AssertionError\n",
       "\n"
      ]
     },
     "metadata": {},
     "output_type": "display_data"
    }
   ],
   "source": [
    "def esmayor(soymayor, noloeres):\n",
    "    if soymayor > noloeres:\n",
    "        return 'Soy mayor'\n",
    "    else:\n",
    "        return 'No soy mayor'\n",
    "\n",
    "# if __name__ == \"__main__\"; no parece funcionar in ipynb\n",
    "assert esmayor(5, 4) == 'Soy mayor' #Supera el casus test\n",
    "assert esmayor(3, 4) == 'Soy mayor' #Fallará el casus test, devolviendo un error AssertionError\n"
   ]
  },
  {
   "cell_type": "markdown",
   "metadata": {},
   "source": [
    "## `if __name__ == \"__main__\"`\n",
    "Cuando este fichero **SE EJECUTE** como fichero principal ejecutado directamente desde el fichero; llamándole desde su ruta de acceso (En TERMINAL, llamar a **python3** seguido de **nombre_del_archivo_de_python.py**)...\n",
    "\n",
    "... **EJECUTARÁ** primero todo lo que se encuentre bajo el if. (RECORDATORIO: Python no ejecuta las funciones, *si no que las guarda en memoria*. Si tienes funciones encima de el if, las guardará igualmente)\n",
    "\n",
    "**Si el fichero es ejecutado por otro fichero**, su \\_\\_name\\_\\_ no tomará el valor \\_\\_main\\_\\_, si no que tomará el nombre del archivo, siempre como *string* (nombre_del_archivo_de_python, sin el .py).\n",
    "\n",
    "(!!) Recordatorio: toda variable entre __ __ es una variable interna (*variable global, __built-in__*) de Python, que no requiere de ser creada.  "
   ]
  },
  {
   "cell_type": "code",
   "execution_count": null,
   "metadata": {},
   "outputs": [],
   "source": [
    "# ipynb no parece ejecutar __name__ == __main__ correctamente\n",
    "\n",
    "$ python3 megaprograma.py\n",
    "\n",
    "if __name__ == '__main__':\n",
    "    import cosasChulas as volteretaHaciaAtras\n",
    "\n",
    "#Sólo importará volteretaHaciaAtrás si llamado directamente.\n",
    "\n",
    "$ python otroprograma.py\n",
    "import megaprograma\n",
    "\n",
    "volteretaHaciaAtras() \n",
    "# Fallará porque al no lanzar megaprograma.py llamándolo directamente, su __name__ no tomará el valor __main__, si no que __name__ == megaprograma. \n",
    "# Otroprograma.py será quien tome __name__ == \"__main__\", por lo que la función importada de otro módulo (que solo es importado si __name__ de megaprograma.py es \"__main__\") nunca será importada."
   ]
  },
  {
   "cell_type": "markdown",
   "metadata": {},
   "source": [
    "## Run & Debug VSCODE\n",
    "(!!) BOTÓN DE LA MARIQUITA Y EL PLAY. Sinceramente, para entender bien como funciona, hay que verlo en funcionamiento.\n",
    "\n",
    "Al utilizaro, te dirá que utilices el debugger del idioma que estás utilizando. Una vez cargado, te mostrará valores de variables (que añadas a su ventana de *Watch*), puntos de rotura (que añadas a tu código apuntando a la línea donde te interese que pare) y otras herramientas de utilidad a la hora de hacer debugging (Limpiar defectos). Puedes llamar al debugger de *python* en este documento si tienes seleccionada una ventana de código; seleccionando esta, te pedirá uno de Markdown. "
   ]
  }
 ],
 "metadata": {
  "language_info": {
   "name": "python"
  }
 },
 "nbformat": 4,
 "nbformat_minor": 2
}
